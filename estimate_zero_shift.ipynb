{
 "cells": [
  {
   "cell_type": "markdown",
   "id": "00e15b48",
   "metadata": {},
   "source": [
    "# This model will combine the north and south shift in oder to see the difference"
   ]
  },
  {
   "cell_type": "code",
   "execution_count": 1,
   "id": "7dad314c",
   "metadata": {},
   "outputs": [],
   "source": [
    "# dependencies copied from forward model\n",
    "from okapy import rect_shear_fault\n",
    "from math import sin, cos, tan, radians\n",
    "from matplotlib import cm, colors\n",
    "import numpy as np\n",
    "import matplotlib.pyplot as plt"
   ]
  },
  {
   "cell_type": "code",
   "execution_count": 3,
   "id": "862fa2ba",
   "metadata": {},
   "outputs": [],
   "source": [
    "#load in both data files\n",
    "data_s = np.loadtxt('/home/karlee/earthquakes/alor_2015_JupNot/dsc_digitized/prepareInSARdata/south.okinv', delimiter=' ')  # make sure you have the correct path to the file for your system\n",
    "data_s[:,0]*=1000  # convert x coord from km to m\n",
    "data_s[:,1]*=1000  # convert y coord from km to m\n",
    "\n",
    "data_n = np.loadtxt('/home/karlee/earthquakes/alor_2015_JupNot/dsc_digitized/prepareInSARdata/north.okinv', delimiter=' ')  # make sure you have the correct path to the file for your system\n",
    "data_n[:,0]*=1000  # convert x coord from km to m\n",
    "data_n[:,1]*=1000  # convert y coord from km to m"
   ]
  },
  {
   "cell_type": "code",
   "execution_count": 5,
   "id": "da5a562d",
   "metadata": {},
   "outputs": [],
   "source": [
    "# a vector of fault parameters: strike, dip, rake, slip, x, y, length, top, bottom\n",
    "#input the best fitting parameters from optimization\n",
    "fparams = np.array([1.16198150e+02,  6.63744396e+01, -1.54000000e+02,  2.36289011e+00,\n",
    "        7.16143375e+05,  9.09142841e+06,  1.29650511e+04,  2.14759190e+03,\n",
    "        8.00000218e+03]) # all values in degrees or m\n",
    "\n",
    "# a vector of elastic parameters\n",
    "eparams = np.array([30e9, 30e9])  # 1st and 2nd Lame elastic parameters; try 30 GPa for both"
   ]
  },
  {
   "cell_type": "code",
   "execution_count": 6,
   "id": "989297c4",
   "metadata": {},
   "outputs": [],
   "source": [
    "model_los_disps_south = rect_shear_fault(fparams, eparams, data_s)\n",
    "model_los_disps_north = rect_shear_fault(fparams, eparams, data_n)"
   ]
  },
  {
   "cell_type": "code",
   "execution_count": 12,
   "id": "fd7c71c2",
   "metadata": {},
   "outputs": [
    {
     "name": "stdout",
     "output_type": "stream",
     "text": [
      "South Data Set\n",
      "total squared penalty: 0.7134331055748079 m^2\n",
      "RMS: 0.07324041704231612 m\n",
      "zero level shift: 0.028419122182327602 m\n",
      "total squared penalty: 0.6060161203281373 m^2\n"
     ]
    }
   ],
   "source": [
    "#calculate the penalty from north and south \n",
    "print ('South Data Set')\n",
    "\n",
    "penalty_s = np.sum(np.square(data_s[:,2]-model_los_disps_south))\n",
    "print('total squared penalty:',penalty_s,'m^2')\n",
    "\n",
    "RMS_s = np.sqrt(penalty_s/np.size(data_s[:,2]))\n",
    "print('RMS:', RMS_s, 'm')\n",
    "\n",
    "# calculate the mean residual\n",
    "zero_shift_s = np.mean(data_s[:,2]-model_los_disps_south)\n",
    "print('zero level shift:',zero_shift_s,'m')\n",
    "\n",
    "# now subtract this from the data when computing the misfit\n",
    "penalty_s = np.sum(np.square((data_s[:,2]-zero_shift_s)-model_los_disps_south))\n",
    "print('total squared penalty:',penalty_s,'m^2')"
   ]
  },
  {
   "cell_type": "code",
   "execution_count": 13,
   "id": "95f481dc",
   "metadata": {},
   "outputs": [
    {
     "name": "stdout",
     "output_type": "stream",
     "text": [
      "North Data Set\n",
      "total squared penalty: 0.05915942322277662 m^2\n",
      "RMS: 0.05307650508050423 m\n",
      "zero level shift: -0.02495629017933924 m\n",
      "total squared penalty: 0.6060161203281373 m^2\n"
     ]
    }
   ],
   "source": [
    "#calculate the penalty from north and south \n",
    "print ('North Data Set')\n",
    "\n",
    "penalty_n = np.sum(np.square(data_n[:,2]-model_los_disps_north))\n",
    "print('total squared penalty:',penalty_n,'m^2')\n",
    "\n",
    "RMS_n = np.sqrt(penalty_n/np.size(data_n[:,2]))\n",
    "print('RMS:', RMS_n, 'm')\n",
    "\n",
    "# calculate the mean residual\n",
    "zero_shift_n = np.mean(data_n[:,2]-model_los_disps_north)\n",
    "print('zero level shift:',zero_shift_n,'m')\n",
    "\n",
    "# now subtract this from the data when computing the misfit\n",
    "penalty_n = np.sum(np.square((data_n[:,2]-zero_shift_n)-model_los_disps_north))\n",
    "print('total squared penalty:',penalty_s,'m^2')"
   ]
  },
  {
   "cell_type": "code",
   "execution_count": 14,
   "id": "9557dfbe",
   "metadata": {},
   "outputs": [
    {
     "data": {
      "text/plain": [
       "-0.053375412361666846"
      ]
     },
     "execution_count": 14,
     "metadata": {},
     "output_type": "execute_result"
    }
   ],
   "source": [
    "#calculate the shift\n",
    "zero_shift_n - zero_shift_s"
   ]
  },
  {
   "cell_type": "code",
   "execution_count": 15,
   "id": "07ac21ea",
   "metadata": {},
   "outputs": [],
   "source": [
    "data = np.vstack((data_s, data_n))"
   ]
  },
  {
   "cell_type": "code",
   "execution_count": 16,
   "id": "fd9c0e93",
   "metadata": {},
   "outputs": [
    {
     "data": {
      "text/plain": [
       "array([[ 7.12981608e+05,  9.09261116e+06,  0.00000000e+00, ...,\n",
       "         1.07772000e-01, -8.55679000e-01,  1.00000000e+00],\n",
       "       [ 7.12068114e+05,  9.09356676e+06,  0.00000000e+00, ...,\n",
       "         1.08043000e-01, -8.54934000e-01,  2.00000000e+00],\n",
       "       [ 7.11213952e+05,  9.09455177e+06,  0.00000000e+00, ...,\n",
       "         1.08277000e-01, -8.54290000e-01,  3.00000000e+00],\n",
       "       ...,\n",
       "       [ 7.24117005e+05,  9.09558781e+06, -1.18000000e-01, ...,\n",
       "         1.05098000e-01, -8.62781000e-01,  1.90000000e+01],\n",
       "       [ 7.22902388e+05,  9.09570626e+06, -1.18000000e-01, ...,\n",
       "         1.05405000e-01, -8.61972000e-01,  2.00000000e+01],\n",
       "       [ 7.19525279e+05,  9.09503305e+06, -1.18000000e-01, ...,\n",
       "         1.06223000e-01, -8.59810000e-01,  2.10000000e+01]])"
      ]
     },
     "execution_count": 16,
     "metadata": {},
     "output_type": "execute_result"
    }
   ],
   "source": [
    "data"
   ]
  },
  {
   "cell_type": "code",
   "execution_count": 17,
   "id": "3b8025b9",
   "metadata": {},
   "outputs": [],
   "source": [
    "model_los_disps = rect_shear_fault(fparams, eparams, data)"
   ]
  },
  {
   "cell_type": "code",
   "execution_count": 18,
   "id": "a38a5b11",
   "metadata": {},
   "outputs": [
    {
     "name": "stdout",
     "output_type": "stream",
     "text": [
      "total squared penalty: 0.7725925287975846 m^2\n",
      "RMS: 0.07082961670503178 m\n"
     ]
    }
   ],
   "source": [
    "penalty = np.sum(np.square(data[:,2]-model_los_disps))\n",
    "print('total squared penalty:',penalty,'m^2')\n",
    "\n",
    "RMS = np.sqrt(penalty/np.size(data[:,2]))\n",
    "print('RMS:', RMS, 'm')"
   ]
  },
  {
   "cell_type": "code",
   "execution_count": 19,
   "id": "680f860a",
   "metadata": {},
   "outputs": [
    {
     "name": "stdout",
     "output_type": "stream",
     "text": [
      "zero level shift: 0.021140656860282124 m\n",
      "total squared penalty: 0.7037657134350187 m^2\n"
     ]
    }
   ],
   "source": [
    "# calculate the mean residual\n",
    "zero_shift = np.mean(data[:,2]-model_los_disps)\n",
    "print('zero level shift:',zero_shift,'m')\n",
    "\n",
    "# now subtract this from the data when computing the misfit\n",
    "penalty = np.sum(np.square((data[:,2]-zero_shift)-model_los_disps))\n",
    "print('total squared penalty:',penalty,'m^2')"
   ]
  },
  {
   "cell_type": "code",
   "execution_count": 20,
   "id": "0d5d78c8",
   "metadata": {},
   "outputs": [],
   "source": [
    "# i got this from tht digit NB\n",
    "# this will save the file\n",
    "np.savetxt('dsc_combine.okinv',data,fmt='%f %f %f %f %f %f %d')"
   ]
  },
  {
   "cell_type": "code",
   "execution_count": 22,
   "id": "394de794",
   "metadata": {},
   "outputs": [],
   "source": [
    "# substract the shift from the 3 column of displacement\n",
    "data_n_shifted = data_n\n",
    "\n",
    "data_n_shifted [:,2] -= .118"
   ]
  },
  {
   "cell_type": "code",
   "execution_count": 23,
   "id": "63ca1be4",
   "metadata": {},
   "outputs": [],
   "source": [
    "# create a new stack of the data shifted\n",
    "data_shifted = np.vstack((data_s, data_n_shifted))"
   ]
  },
  {
   "cell_type": "code",
   "execution_count": 24,
   "id": "807ffbbb",
   "metadata": {},
   "outputs": [],
   "source": [
    "#save again\n",
    "np.savetxt('data_dsc_combined_shifted.okinv',data_shifted,fmt='%f %f %f %f %f %f %d')"
   ]
  },
  {
   "cell_type": "code",
   "execution_count": null,
   "id": "c39bf743",
   "metadata": {},
   "outputs": [],
   "source": []
  }
 ],
 "metadata": {
  "kernelspec": {
   "display_name": "Python 3",
   "language": "python",
   "name": "python3"
  },
  "language_info": {
   "codemirror_mode": {
    "name": "ipython",
    "version": 3
   },
   "file_extension": ".py",
   "mimetype": "text/x-python",
   "name": "python",
   "nbconvert_exporter": "python",
   "pygments_lexer": "ipython3",
   "version": "3.8.6"
  }
 },
 "nbformat": 4,
 "nbformat_minor": 5
}
